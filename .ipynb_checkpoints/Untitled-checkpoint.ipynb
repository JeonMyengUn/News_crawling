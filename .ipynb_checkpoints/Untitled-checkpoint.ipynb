{
 "cells": [
  {
   "cell_type": "code",
   "execution_count": 27,
   "id": "bfdfcd06",
   "metadata": {},
   "outputs": [],
   "source": [
    "from bs4 import BeautifulSoup \n",
    "import warnings\n",
    "from selenium import webdriver\n",
    "import pandas as pd\n",
    "import requests\n",
    "import urllib.request.urlopen"
   ]
  },
  {
   "cell_type": "code",
   "execution_count": 28,
   "id": "4ca46d5c",
   "metadata": {},
   "outputs": [],
   "source": [
    "News_url = \"https://search.naver.com/search.naver?where=nexearch&sm=top_hty&fbm=1&ie=utf8&query=알고리즘\"\n",
    "Chrome_driver_Path = \"/Users/jeonmyeong-un/Desktop/chromedriver\""
   ]
  },
  {
   "cell_type": "code",
   "execution_count": 29,
   "id": "44af38eb",
   "metadata": {},
   "outputs": [],
   "source": [
    "driver = webdriver.Chrome(Chrome_driver_Path)\n",
    "driver.get(url=News_url)\n",
    "News_button = driver.find_element_by_xpath(\"//*[@id='lnb']/div[1]/div/ul/li[9]/a\")\n",
    "News_button.click()\n",
    "current_url = driver.current_url"
   ]
  },
  {
   "cell_type": "code",
   "execution_count": 30,
   "id": "576d7bbb",
   "metadata": {},
   "outputs": [
    {
     "ename": "AttributeError",
     "evalue": "module 'requests' has no attribute 'urlopen'",
     "output_type": "error",
     "traceback": [
      "\u001b[0;31m---------------------------------------------------------------------------\u001b[0m",
      "\u001b[0;31mAttributeError\u001b[0m                            Traceback (most recent call last)",
      "\u001b[0;32m<ipython-input-30-f4e63132a87e>\u001b[0m in \u001b[0;36m<module>\u001b[0;34m\u001b[0m\n\u001b[0;32m----> 1\u001b[0;31m \u001b[0msoup\u001b[0m \u001b[0;34m=\u001b[0m \u001b[0mBeautifulSoup\u001b[0m\u001b[0;34m(\u001b[0m\u001b[0mrequests\u001b[0m\u001b[0;34m.\u001b[0m\u001b[0murlopen\u001b[0m\u001b[0;34m(\u001b[0m\u001b[0mcurrent_url\u001b[0m\u001b[0;34m)\u001b[0m\u001b[0;34m,\u001b[0m \u001b[0;34m'html.parser'\u001b[0m\u001b[0;34m)\u001b[0m\u001b[0;34m\u001b[0m\u001b[0;34m\u001b[0m\u001b[0m\n\u001b[0m",
      "\u001b[0;31mAttributeError\u001b[0m: module 'requests' has no attribute 'urlopen'"
     ]
    }
   ],
   "source": [
    "soup = BeautifulSoup(requests.urlopen(current_url), 'html.parser')"
   ]
  },
  {
   "cell_type": "code",
   "execution_count": 18,
   "id": "65035ef7",
   "metadata": {
    "scrolled": false
   },
   "outputs": [],
   "source": [
    "article = soup.select('ul.list_news > li')"
   ]
  },
  {
   "cell_type": "code",
   "execution_count": 21,
   "id": "226e7174",
   "metadata": {},
   "outputs": [],
   "source": [
    "for ar in article:\n",
    "    title = ar.select_one(\"div.news_area > a\").text\n",
    "    source = ar.select_one(\"div > div > div.news_info > div.info_group > a.info.press\").text\n",
    "    summary = ar.select_one(\"div.news_dsc > div.dsc_wrap > a\").text.strip(\"...\")\n",
    "    df = pd.DataFrame(data=[[title, source, summary]], columns=['제목', '출판사', '정리'])\n",
    "    print(\"제목: \" + title + '\\n',\n",
    "          \"출판사: \" + source + '\\n',\n",
    "          \"정리: \" + summary + '\\n')"
   ]
  },
  {
   "cell_type": "code",
   "execution_count": 22,
   "id": "901839ec",
   "metadata": {},
   "outputs": [
    {
     "ename": "NameError",
     "evalue": "name 'df' is not defined",
     "output_type": "error",
     "traceback": [
      "\u001b[0;31m---------------------------------------------------------------------------\u001b[0m",
      "\u001b[0;31mNameError\u001b[0m                                 Traceback (most recent call last)",
      "\u001b[0;32m<ipython-input-22-00cf07b74dcd>\u001b[0m in \u001b[0;36m<module>\u001b[0;34m\u001b[0m\n\u001b[0;32m----> 1\u001b[0;31m \u001b[0mdf\u001b[0m\u001b[0;34m\u001b[0m\u001b[0;34m\u001b[0m\u001b[0m\n\u001b[0m",
      "\u001b[0;31mNameError\u001b[0m: name 'df' is not defined"
     ]
    }
   ],
   "source": []
  },
  {
   "cell_type": "code",
   "execution_count": null,
   "id": "f8795f87",
   "metadata": {},
   "outputs": [],
   "source": []
  }
 ],
 "metadata": {
  "kernelspec": {
   "display_name": "Python 3",
   "language": "python",
   "name": "python3"
  },
  "language_info": {
   "codemirror_mode": {
    "name": "ipython",
    "version": 3
   },
   "file_extension": ".py",
   "mimetype": "text/x-python",
   "name": "python",
   "nbconvert_exporter": "python",
   "pygments_lexer": "ipython3",
   "version": "3.7.10"
  }
 },
 "nbformat": 4,
 "nbformat_minor": 5
}
