{
 "cells": [
  {
   "cell_type": "code",
   "execution_count": 62,
   "id": "bfdfcd06",
   "metadata": {},
   "outputs": [],
   "source": [
    "from bs4 import BeautifulSoup \n",
    "import warnings\n",
    "from selenium import webdriver\n",
    "import pandas as pd\n",
    "import requests\n",
    "from urllib.request import urlopen"
   ]
  },
  {
   "cell_type": "code",
   "execution_count": 65,
   "id": "36035c43",
   "metadata": {},
   "outputs": [
    {
     "name": "stdout",
     "output_type": "stream",
     "text": [
      "크롤링 할 주제 단어 : 핸드폰\n"
     ]
    }
   ],
   "source": [
    "search_subject = input(\"크롤링 할 주제 단어 : \")"
   ]
  },
  {
   "cell_type": "code",
   "execution_count": 66,
   "id": "4ca46d5c",
   "metadata": {},
   "outputs": [],
   "source": [
    "News_url = f\"https://search.naver.com/search.naver?where=nexearch&sm=top_hty&fbm=1&ie=utf8&query={search_subject}\"\n",
    "Chrome_driver_Path = \"/Users/jeonmyeong-un/Desktop/chromedriver\""
   ]
  },
  {
   "cell_type": "code",
   "execution_count": 77,
   "id": "44af38eb",
   "metadata": {},
   "outputs": [],
   "source": [
    "driver = webdriver.Chrome(Chrome_driver_Path)\n",
    "driver.get(url=News_url)\n",
    "News_button = driver.find_element_by_xpath(\"//*[@id='lnb']/div[1]/div/ul/li[9]/a\")\n",
    "News_button.click()\n",
    "current_url = driver.current_url"
   ]
  },
  {
   "cell_type": "code",
   "execution_count": 78,
   "id": "576d7bbb",
   "metadata": {},
   "outputs": [],
   "source": [
    "soup = BeautifulSoup(urlopen(current_url), 'html.parser')"
   ]
  },
  {
   "cell_type": "code",
   "execution_count": 82,
   "id": "65035ef7",
   "metadata": {
    "scrolled": false
   },
   "outputs": [],
   "source": [
    "article = soup.select(f'ul.list_news > li')"
   ]
  },
  {
   "cell_type": "code",
   "execution_count": 83,
   "id": "226e7174",
   "metadata": {},
   "outputs": [
    {
     "name": "stdout",
     "output_type": "stream",
     "text": [
      "제목: \"핸드폰 인터넷 보안시스템도 KT 쓰며 한달 50만원 내는데\"…먹통에 날벼락\n",
      " 출판사: 매일경제언론사 선정\n",
      " 정리: 그는 이어 \"저는 핸드폰도 KT, 인터넷도 KT, 심지어 스튜디오 보안시스템도 KT텔레캅을 쓰고 있다\"며 \"만약... 이에 영상을 촬영하던 직원은 \"한 달에 KT에 얼마를 쓰냐\"고 묻자 잇섭은 \"핸드폰, 인터넷, TV 등 한 달에 40만\n",
      "\n",
      "제목: 중3 남학생입니다, 핸드폰 할 체력이 없습니다 [오늘의 기사 제안]\n",
      " 출판사: 오마이뉴스언론사 선정\n",
      " 정리: 핸드폰과 한몸이던 내가 알게 된 노동의 기쁨 주말에 가족이 다 같이 시골로 가지 않는 평범한 주말 풍경은 이렇다. 나랑 동생은 방에서 주로 핸드폰을 하고, 어머니도 역시 안방에서 누워 계시다 밥 시간이 되면 우리 밥을\n",
      "\n",
      "제목: 핸드폰 보며 출근하는 김진욱 공수처장\n",
      " 출판사: 뉴스1\n",
      " 정리: 김진욱 공수처장이 26일 경기도 정부과천청사 고위공직자범죄수사처(공수처)로 출근하고 있다. 공수처가 앞서 '고발사주 의혹'으로 손준성 전 대검 수사정보정책관에 대한 사전구속영장을 청구하자, 손 검사 측은 대선\n",
      "\n",
      "제목: 경찰, ‘유동규 핸드폰’ 4시간여 포렌식…마지막 통화자 밝혀질까\n",
      " 출판사: 헤럴드경제\n",
      " 정리: 경찰이 대장동 개발 로비·특혜 의혹 사건의 핵심인물로 꼽히는 유동규 전 성남도시개발공사 기획본부장이 최근까지 사용했던 휴대전화에 대한 데이터 복구·분석 작업에 25일 착수했다. 경기남부경찰청 전담수사팀(팀장\n",
      "\n",
      "제목: '이동국♥' 이수진 \"핸드폰에 온통 딸 재시뿐\"…그 미모면 셀카 참기 어렵지\n",
      " 출판사: 스포티비뉴스\n",
      " 정리: 24일 이동국의 아내 이수진은 자신의 SNS에 \"왜 내 핸드폰 속에 온통 다 너의 셀카 사진뿐인 거지? 누군지 못 알아볼 뻔했네\"라는 글과 함께 딸 재시의 셀카 사진 여러 장을 게재했다. 사진 속 재시는 다양한 각도에서\n",
      "\n",
      "제목: '핸드폰에 두발규정까지' 까까머리 군인 사라진다···\"병사도 간부처럼\"\n",
      " 출판사: 글로벌E\n",
      " 정리: 병사에게 적용되던 스포츠형 두발규정이 폐지될 전망이다. 부승찬 국방부 대변인은 25일 정례브리핑에서 \"민·관·군 합동위원회는 두발규정과 관련해 작전이나 훈련 등 부대별로 상이한 임무 특성을 고려해 각 군별로\n",
      "\n",
      "제목: 핸드폰 보며 길 건너려다 자전거 대회 결승선 눈앞에 둔 선수 가로막아 넘어지...\n",
      " 출판사: 인사이트\n",
      " 정리: 한 여성이 핸드폰을 보며 자전거 도로 한복판으로 뛰어들었고, 결국 제일 선두를 달리던 자전거 선수와 여성이 충돌하고 말았다. 여성의 이런 돌발 행동은 누리꾼들의 비난을 샀다. 또한 이와 동시에 주최 측도\n",
      "\n",
      "제목: \"핸드폰 고장인 줄 알았어요\"…KT망 '먹통'에 대구서도 시민 불편 폭발\n",
      " 출판사: 뉴스1\n",
      " 정리: 카톡(카카오톡)이 왜 안되지?\" \"핸드폰으로 인터넷 접속해보니 '셀룰러 데이터가 꺼져 있음'이라는 메시지가 뜨고 '데이터에 접근하려면, 셀룰러 데이터를 켜거나 와이파이를 사용하십시오'라는데 아이폰이 고장 났나?\n",
      "\n",
      "제목: 원희룡 \"유동규, 핸드폰 던지기 전 통화한 사람은 '李복심'\"\n",
      " 출판사: 연합뉴스언론사 선정\n",
      " 정리: \"유씨와의 통화 옆에서 지켜본 사람이 제보…'복심' 유씨와도 잘아는 사람\" \"李 국감서 '유 자살약' 언급 치명적 실수…유, 토사구팽에 대한 시위\" 대장동 의혹과 관련해 구속된 유동규 전 성남도시개발공사 본부장이 지난달\n",
      "\n",
      "제목: 이연희 \"남편 만난 게 인생 가장 큰 행운, 핸드폰 속 애칭은 '여봉♥'\"(미운)...\n",
      " 출판사: 뉴스엔\n",
      " 정리: 이연희가 새댁 1년 차 근황을 밝혔다. 10월 24일 방송된 SBS '미운 우리 새끼'(이하 미우새)에서는 배우 이연희가 스페셜 게스트로 출연했다. 이날 이연희는 \"이제 결혼한 지 1년이 좀 넘었다'며 새댁 근황을 전했다. 남편과 첫\n",
      "\n"
     ]
    }
   ],
   "source": [
    "title_list = []\n",
    "source_list = []\n",
    "summary_list = []\n",
    "for ar in article:\n",
    "    title = ar.select_one(\"div.news_area > a\").text\n",
    "    title_list.append(title)\n",
    "    source = ar.select_one(\"div > div > div.news_info > div.info_group > a.info.press\").text\n",
    "    source_list.append(source)\n",
    "    summary = ar.select_one(\"div.news_dsc > div.dsc_wrap > a\").text.strip(\"...\")\n",
    "    summary_list.append(summary)\n",
    "    dat = [title_list, source_list, summary_list]\n",
    "    df = pd.DataFrame(list(zip(title_list, source_list, summary_list)), columns=['제목', '출판사', '정리'])\n",
    "    print(\"제목: \" + title + '\\n',\n",
    "          \"출판사: \" + source + '\\n',\n",
    "          \"정리: \" + summary + '\\n')"
   ]
  },
  {
   "cell_type": "code",
   "execution_count": 84,
   "id": "901839ec",
   "metadata": {},
   "outputs": [
    {
     "data": {
      "text/html": [
       "<div>\n",
       "<style scoped>\n",
       "    .dataframe tbody tr th:only-of-type {\n",
       "        vertical-align: middle;\n",
       "    }\n",
       "\n",
       "    .dataframe tbody tr th {\n",
       "        vertical-align: top;\n",
       "    }\n",
       "\n",
       "    .dataframe thead th {\n",
       "        text-align: right;\n",
       "    }\n",
       "</style>\n",
       "<table border=\"1\" class=\"dataframe\">\n",
       "  <thead>\n",
       "    <tr style=\"text-align: right;\">\n",
       "      <th></th>\n",
       "      <th>제목</th>\n",
       "      <th>출판사</th>\n",
       "      <th>정리</th>\n",
       "    </tr>\n",
       "  </thead>\n",
       "  <tbody>\n",
       "    <tr>\n",
       "      <th>0</th>\n",
       "      <td>\"핸드폰 인터넷 보안시스템도 KT 쓰며 한달 50만원 내는데\"…먹통에 날벼락</td>\n",
       "      <td>매일경제언론사 선정</td>\n",
       "      <td>그는 이어 \"저는 핸드폰도 KT, 인터넷도 KT, 심지어 스튜디오 보안시스템도 KT...</td>\n",
       "    </tr>\n",
       "    <tr>\n",
       "      <th>1</th>\n",
       "      <td>중3 남학생입니다, 핸드폰 할 체력이 없습니다 [오늘의 기사 제안]</td>\n",
       "      <td>오마이뉴스언론사 선정</td>\n",
       "      <td>핸드폰과 한몸이던 내가 알게 된 노동의 기쁨 주말에 가족이 다 같이 시골로 가지 않...</td>\n",
       "    </tr>\n",
       "    <tr>\n",
       "      <th>2</th>\n",
       "      <td>핸드폰 보며 출근하는 김진욱 공수처장</td>\n",
       "      <td>뉴스1</td>\n",
       "      <td>김진욱 공수처장이 26일 경기도 정부과천청사 고위공직자범죄수사처(공수처)로 출근하고...</td>\n",
       "    </tr>\n",
       "    <tr>\n",
       "      <th>3</th>\n",
       "      <td>경찰, ‘유동규 핸드폰’ 4시간여 포렌식…마지막 통화자 밝혀질까</td>\n",
       "      <td>헤럴드경제</td>\n",
       "      <td>경찰이 대장동 개발 로비·특혜 의혹 사건의 핵심인물로 꼽히는 유동규 전 성남도시개발...</td>\n",
       "    </tr>\n",
       "    <tr>\n",
       "      <th>4</th>\n",
       "      <td>'이동국♥' 이수진 \"핸드폰에 온통 딸 재시뿐\"…그 미모면 셀카 참기 어렵지</td>\n",
       "      <td>스포티비뉴스</td>\n",
       "      <td>24일 이동국의 아내 이수진은 자신의 SNS에 \"왜 내 핸드폰 속에 온통 다 너의 ...</td>\n",
       "    </tr>\n",
       "    <tr>\n",
       "      <th>5</th>\n",
       "      <td>'핸드폰에 두발규정까지' 까까머리 군인 사라진다···\"병사도 간부처럼\"</td>\n",
       "      <td>글로벌E</td>\n",
       "      <td>병사에게 적용되던 스포츠형 두발규정이 폐지될 전망이다. 부승찬 국방부 대변인은 25...</td>\n",
       "    </tr>\n",
       "    <tr>\n",
       "      <th>6</th>\n",
       "      <td>핸드폰 보며 길 건너려다 자전거 대회 결승선 눈앞에 둔 선수 가로막아 넘어지...</td>\n",
       "      <td>인사이트</td>\n",
       "      <td>한 여성이 핸드폰을 보며 자전거 도로 한복판으로 뛰어들었고, 결국 제일 선두를 달리...</td>\n",
       "    </tr>\n",
       "    <tr>\n",
       "      <th>7</th>\n",
       "      <td>\"핸드폰 고장인 줄 알았어요\"…KT망 '먹통'에 대구서도 시민 불편 폭발</td>\n",
       "      <td>뉴스1</td>\n",
       "      <td>카톡(카카오톡)이 왜 안되지?\" \"핸드폰으로 인터넷 접속해보니 '셀룰러 데이터가 꺼...</td>\n",
       "    </tr>\n",
       "    <tr>\n",
       "      <th>8</th>\n",
       "      <td>원희룡 \"유동규, 핸드폰 던지기 전 통화한 사람은 '李복심'\"</td>\n",
       "      <td>연합뉴스언론사 선정</td>\n",
       "      <td>\"유씨와의 통화 옆에서 지켜본 사람이 제보…'복심' 유씨와도 잘아는 사람\" \"李 국...</td>\n",
       "    </tr>\n",
       "    <tr>\n",
       "      <th>9</th>\n",
       "      <td>이연희 \"남편 만난 게 인생 가장 큰 행운, 핸드폰 속 애칭은 '여봉♥'\"(미운)...</td>\n",
       "      <td>뉴스엔</td>\n",
       "      <td>이연희가 새댁 1년 차 근황을 밝혔다. 10월 24일 방송된 SBS '미운 우리 새...</td>\n",
       "    </tr>\n",
       "  </tbody>\n",
       "</table>\n",
       "</div>"
      ],
      "text/plain": [
       "                                                 제목          출판사  \\\n",
       "0        \"핸드폰 인터넷 보안시스템도 KT 쓰며 한달 50만원 내는데\"…먹통에 날벼락   매일경제언론사 선정   \n",
       "1             중3 남학생입니다, 핸드폰 할 체력이 없습니다 [오늘의 기사 제안]  오마이뉴스언론사 선정   \n",
       "2                              핸드폰 보며 출근하는 김진욱 공수처장          뉴스1   \n",
       "3               경찰, ‘유동규 핸드폰’ 4시간여 포렌식…마지막 통화자 밝혀질까        헤럴드경제   \n",
       "4        '이동국♥' 이수진 \"핸드폰에 온통 딸 재시뿐\"…그 미모면 셀카 참기 어렵지       스포티비뉴스   \n",
       "5           '핸드폰에 두발규정까지' 까까머리 군인 사라진다···\"병사도 간부처럼\"         글로벌E   \n",
       "6     핸드폰 보며 길 건너려다 자전거 대회 결승선 눈앞에 둔 선수 가로막아 넘어지...         인사이트   \n",
       "7          \"핸드폰 고장인 줄 알았어요\"…KT망 '먹통'에 대구서도 시민 불편 폭발          뉴스1   \n",
       "8                원희룡 \"유동규, 핸드폰 던지기 전 통화한 사람은 '李복심'\"   연합뉴스언론사 선정   \n",
       "9  이연희 \"남편 만난 게 인생 가장 큰 행운, 핸드폰 속 애칭은 '여봉♥'\"(미운)...          뉴스엔   \n",
       "\n",
       "                                                  정리  \n",
       "0  그는 이어 \"저는 핸드폰도 KT, 인터넷도 KT, 심지어 스튜디오 보안시스템도 KT...  \n",
       "1  핸드폰과 한몸이던 내가 알게 된 노동의 기쁨 주말에 가족이 다 같이 시골로 가지 않...  \n",
       "2  김진욱 공수처장이 26일 경기도 정부과천청사 고위공직자범죄수사처(공수처)로 출근하고...  \n",
       "3  경찰이 대장동 개발 로비·특혜 의혹 사건의 핵심인물로 꼽히는 유동규 전 성남도시개발...  \n",
       "4  24일 이동국의 아내 이수진은 자신의 SNS에 \"왜 내 핸드폰 속에 온통 다 너의 ...  \n",
       "5  병사에게 적용되던 스포츠형 두발규정이 폐지될 전망이다. 부승찬 국방부 대변인은 25...  \n",
       "6  한 여성이 핸드폰을 보며 자전거 도로 한복판으로 뛰어들었고, 결국 제일 선두를 달리...  \n",
       "7  카톡(카카오톡)이 왜 안되지?\" \"핸드폰으로 인터넷 접속해보니 '셀룰러 데이터가 꺼...  \n",
       "8  \"유씨와의 통화 옆에서 지켜본 사람이 제보…'복심' 유씨와도 잘아는 사람\" \"李 국...  \n",
       "9  이연희가 새댁 1년 차 근황을 밝혔다. 10월 24일 방송된 SBS '미운 우리 새...  "
      ]
     },
     "execution_count": 84,
     "metadata": {},
     "output_type": "execute_result"
    }
   ],
   "source": [
    "df"
   ]
  },
  {
   "cell_type": "code",
   "execution_count": null,
   "id": "f8795f87",
   "metadata": {},
   "outputs": [],
   "source": []
  }
 ],
 "metadata": {
  "kernelspec": {
   "display_name": "Python 3",
   "language": "python",
   "name": "python3"
  },
  "language_info": {
   "codemirror_mode": {
    "name": "ipython",
    "version": 3
   },
   "file_extension": ".py",
   "mimetype": "text/x-python",
   "name": "python",
   "nbconvert_exporter": "python",
   "pygments_lexer": "ipython3",
   "version": "3.7.10"
  }
 },
 "nbformat": 4,
 "nbformat_minor": 5
}
